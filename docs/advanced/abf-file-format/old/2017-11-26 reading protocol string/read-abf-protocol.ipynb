{
 "cells": [
  {
   "cell_type": "markdown",
   "metadata": {},
   "source": [
    "# Extracting Protocol Path from the ABF2 header\n",
    "Here's a quick and dirty way to do it."
   ]
  },
  {
   "cell_type": "code",
   "execution_count": 15,
   "metadata": {
    "collapsed": true
   },
   "outputs": [],
   "source": [
    "import re\n",
    "import os\n",
    "import glob"
   ]
  },
  {
   "cell_type": "code",
   "execution_count": 132,
   "metadata": {},
   "outputs": [],
   "source": [
    "def abfProtocol(abfFileName):\n",
    "    \"\"\"return the protocol filename by reading the ABF header\"\"\"\n",
    "    \n",
    "    # read the file (binary buffer)\n",
    "    f=open(abfFileName,'rb')\n",
    "    raw=f.read(512*50) # I usually set this to my data start byte\n",
    "    f.close()\n",
    "\n",
    "    # find something matching the .pro string\n",
    "    match=b\".pro\"\n",
    "    matchI=raw.find(match)\n",
    "    if matchI:\n",
    "        chunk=raw[matchI-256:matchI+len(match)]\n",
    "        proto=chunk.split(b\"\\x00\")[-1]\n",
    "        return proto.decode()\n",
    "    else:\n",
    "        return None"
   ]
  },
  {
   "cell_type": "code",
   "execution_count": 131,
   "metadata": {},
   "outputs": [
    {
     "name": "stdout",
     "output_type": "stream",
     "text": [
      "05210017_vc_abf1.abf\n",
      "D:\\Data\\Protocols\\Apply ACh with imaging (VC) 2 (no movies).pro\n",
      "\n",
      "14o08011_ic_pair.abf\n",
      "X:\\Protocols\\Scott\\SWHlab\\paired\\pair-loose-60.pro\n",
      "\n",
      "14o16001_vc_pair_step.abf\n",
      "X:\\Protocols\\Scott\\SWHlab\\paired\\pair-MTIV.pro\n",
      "\n",
      "16d05007_vc_tags.abf\n",
      "S:\\Protocols\\permanent\\0402 VC 2s MT-50.pro\n",
      "\n",
      "171116sh_0011.abf\n",
      "L:\\Protocols\\permanent\\0201 memtest.pro\n",
      "\n",
      "171116sh_0012.abf\n",
      "L:\\Protocols\\permanent\\0202 IV dual.pro\n",
      "\n",
      "171116sh_0013.abf\n",
      "L:\\Protocols\\permanent\\0203 IV fast.pro\n",
      "\n",
      "171116sh_0014.abf\n",
      "L:\\Protocols\\permanent\\0204 Cm ramp.pro\n",
      "\n",
      "171116sh_0015.abf\n",
      "L:\\Protocols\\permanent\\0221 VC sine sweep 70 +- 5 mV.pro\n",
      "\n",
      "171116sh_0016.abf\n",
      "L:\\Protocols\\permanent\\0111 continuous ramp.pro\n",
      "\n",
      "171116sh_0017.abf\n",
      "L:\\Protocols\\permanent\\0121 IC sine sweep 0 +- 20 pA.pro\n",
      "\n",
      "171116sh_0018.abf\n",
      "L:\\Protocols\\permanent\\0113 steps dual -100 to 300 step 25.pro\n",
      "\n",
      "171116sh_0019.abf\n",
      "L:\\Protocols\\permanent\\0114 steps dual -100 to 2000 step 100.pro\n",
      "\n",
      "171116sh_0020.abf\n",
      "L:\\Protocols\\permanent\\0406 VC 10s MT-50.pro\n",
      "\n",
      "17o05024_vc_steps.abf\n",
      "S:\\Protocols\\permanent\\0202 IV dual.pro\n",
      "\n",
      "17o05026_vc_stim.abf\n",
      "S:\\Protocols\\permanent\\0501 opto -50.pro\n",
      "\n",
      "17o05027_ic_ramp.abf\n",
      "S:\\Protocols\\permanent\\0111 continuous ramp.pro\n",
      "\n",
      "17o05028_ic_steps.abf\n",
      "S:\\Protocols\\permanent\\0112 steps dual -50 to 150 step 10.pro\n",
      "\n"
     ]
    }
   ],
   "source": [
    "for abfFileName in glob.glob(\"../../../../data/*.abf\"):\n",
    "    protocol=abfProtocol(abfFileName)\n",
    "    print(\"%s\\n%s\\n\"%(os.path.basename(abfFileName),protocol))"
   ]
  },
  {
   "cell_type": "markdown",
   "metadata": {},
   "source": [
    "_It seems the protocol file is followed by `0x20` in ABF1 files and `0x00` in ABF2 files_"
   ]
  },
  {
   "cell_type": "code",
   "execution_count": null,
   "metadata": {
    "collapsed": true
   },
   "outputs": [],
   "source": []
  }
 ],
 "metadata": {
  "kernelspec": {
   "display_name": "Python 3",
   "language": "python",
   "name": "python3"
  },
  "language_info": {
   "codemirror_mode": {
    "name": "ipython",
    "version": 3
   },
   "file_extension": ".py",
   "mimetype": "text/x-python",
   "name": "python",
   "nbconvert_exporter": "python",
   "pygments_lexer": "ipython3",
   "version": "3.6.1"
  }
 },
 "nbformat": 4,
 "nbformat_minor": 2
}
